{
 "metadata": {
  "language_info": {
   "codemirror_mode": {
    "name": "ipython",
    "version": 3
   },
   "file_extension": ".py",
   "mimetype": "text/x-python",
   "name": "python",
   "nbconvert_exporter": "python",
   "pygments_lexer": "ipython3",
   "version": "3.8.8"
  },
  "orig_nbformat": 2,
  "kernelspec": {
   "name": "python388jvsc74a57bd01f014233201ebfe3eca92b7b7cdb5793acfc83751cfe74142083eac694a69614",
   "display_name": "Python 3.8.8 64-bit ('base': conda)"
  },
  "metadata": {
   "interpreter": {
    "hash": "aee8b7b246df8f9039afb4144a1f6fd8d2ca17a180786b69acc140d282b71a49"
   }
  }
 },
 "nbformat": 4,
 "nbformat_minor": 2,
 "cells": [
  {
   "cell_type": "code",
   "execution_count": 1,
   "metadata": {},
   "outputs": [],
   "source": [
    "import matplotlib.pyplot as plt\n",
    "import numpy as np\n",
    "import pandas as pd\n",
    "import os"
   ]
  },
  {
   "cell_type": "code",
   "execution_count": 2,
   "metadata": {},
   "outputs": [],
   "source": [
    "%matplotlib inline\n",
    "plt.rcParams['figure.figsize'] = (20, 10)"
   ]
  },
  {
   "cell_type": "code",
   "execution_count": 3,
   "metadata": {},
   "outputs": [],
   "source": [
    "saved_style_state = plt.rcParams.copy() #give us a style state to go back to"
   ]
  },
  {
   "cell_type": "code",
   "execution_count": 4,
   "metadata": {},
   "outputs": [
    {
     "output_type": "stream",
     "name": "stdout",
     "text": [
      "loading from file\ndone\n"
     ]
    }
   ],
   "source": [
    "if os.path.isfile(\"Persons aged 18 years and over, whether would get a COVID-19 vaccine when it becomes available and is recommended, by time of reporting.csv\"):\n",
    "    filepath = \"Persons aged 18 years and over, whether would get a COVID-19 vaccine when it becomes available and is recommended, by time of reporting.csv\"\n",
    "    print(\"loading from file\")\n",
    "else:\n",
    "    filepath = \"https://www.abs.gov.au/statistics/people/people-and-communities/household-impacts-covid-19-survey/latest-release\"\n",
    "    print(\"loading from the internet\")\n",
    "\n",
    "df = pd.read_csv(filepath)\n",
    "print(\"done\")"
   ]
  },
  {
   "source": [
    "df.head()"
   ],
   "cell_type": "code",
   "metadata": {},
   "execution_count": 5,
   "outputs": [
    {
     "output_type": "execute_result",
     "data": {
      "text/plain": [
       "                                                                                       Persons aged 18 years and over, whether would get a COVID-19 vaccine when it becomes available and is recommended, by time of reporting\n",
       "NaN                                                Dec-20 (%) Feb-21 (%) Apr-21(a) (%)                                      May-21(a) (%)                                                                                     \n",
       "Disagree or strongly disagree                      12.0       10.4       13.4                                                        13.0                                                                                     \n",
       "Neither agree nor disagree                         14.8       16.6       18.7                                                        19.0                                                                                     \n",
       "Agree or strongly agree                            73.2       73.0       67.9                                                        68.0                                                                                     \n",
       "a. In April and May 2021 respondents who indica... NaN        NaN        NaN                                                          NaN                                                                                     "
      ],
      "text/html": "<div>\n<style scoped>\n    .dataframe tbody tr th:only-of-type {\n        vertical-align: middle;\n    }\n\n    .dataframe tbody tr th {\n        vertical-align: top;\n    }\n\n    .dataframe thead th {\n        text-align: right;\n    }\n</style>\n<table border=\"1\" class=\"dataframe\">\n  <thead>\n    <tr style=\"text-align: right;\">\n      <th></th>\n      <th></th>\n      <th></th>\n      <th></th>\n      <th>Persons aged 18 years and over, whether would get a COVID-19 vaccine when it becomes available and is recommended, by time of reporting</th>\n    </tr>\n  </thead>\n  <tbody>\n    <tr>\n      <th>NaN</th>\n      <th>Dec-20 (%)</th>\n      <th>Feb-21 (%)</th>\n      <th>Apr-21(a) (%)</th>\n      <td>May-21(a) (%)</td>\n    </tr>\n    <tr>\n      <th>Disagree or strongly disagree</th>\n      <th>12.0</th>\n      <th>10.4</th>\n      <th>13.4</th>\n      <td>13.0</td>\n    </tr>\n    <tr>\n      <th>Neither agree nor disagree</th>\n      <th>14.8</th>\n      <th>16.6</th>\n      <th>18.7</th>\n      <td>19.0</td>\n    </tr>\n    <tr>\n      <th>Agree or strongly agree</th>\n      <th>73.2</th>\n      <th>73.0</th>\n      <th>67.9</th>\n      <td>68.0</td>\n    </tr>\n    <tr>\n      <th>a. In April and May 2021 respondents who indicated they already had a COVID-19 vaccination were coded as ‘strongly agree’</th>\n      <th>NaN</th>\n      <th>NaN</th>\n      <th>NaN</th>\n      <td>NaN</td>\n    </tr>\n  </tbody>\n</table>\n</div>"
     },
     "metadata": {},
     "execution_count": 5
    }
   ]
  },
  {
   "cell_type": "code",
   "execution_count": 9,
   "metadata": {},
   "outputs": [
    {
     "output_type": "stream",
     "name": "stdout",
     "text": [
      "<class 'pandas.core.frame.DataFrame'>\nMultiIndex: 6 entries, (nan, 'Dec-20 (%)', 'Feb-21 (%)', 'Apr-21(a) (%)') to ('Source: Australian Bureau of Statistics, Household Impacts of COVID-19 Survey May 2021', nan, nan, nan)\nData columns (total 1 columns):\n #   Column                                                                                                                                   Non-Null Count  Dtype \n---  ------                                                                                                                                   --------------  ----- \n 0   Persons aged 18 years and over, whether would get a COVID-19 vaccine when it becomes available and is recommended, by time of reporting  4 non-null      object\ndtypes: object(1)\nmemory usage: 960.0+ bytes\n"
     ]
    }
   ],
   "source": [
    "df.info()"
   ]
  },
  {
   "cell_type": "code",
   "execution_count": 8,
   "metadata": {},
   "outputs": [
    {
     "output_type": "execute_result",
     "data": {
      "text/plain": [
       "Index(['Persons aged 18 years and over, whether would get a COVID-19 vaccine when it becomes available and is recommended, by time of reporting'], dtype='object')"
      ]
     },
     "metadata": {},
     "execution_count": 8
    }
   ],
   "source": [
    "df.columns"
   ]
  },
  {
   "cell_type": "code",
   "execution_count": 60,
   "metadata": {},
   "outputs": [],
   "source": [
    " "
   ]
  }
 ]
}