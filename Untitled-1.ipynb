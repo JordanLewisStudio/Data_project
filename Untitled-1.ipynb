{
 "metadata": {
  "language_info": {
   "codemirror_mode": {
    "name": "ipython",
    "version": 3
   },
   "file_extension": ".py",
   "mimetype": "text/x-python",
   "name": "python",
   "nbconvert_exporter": "python",
   "pygments_lexer": "ipython3",
   "version": "3.8.8"
  },
  "orig_nbformat": 2,
  "kernelspec": {
   "name": "python388jvsc74a57bd01f014233201ebfe3eca92b7b7cdb5793acfc83751cfe74142083eac694a69614",
   "display_name": "Python 3.8.8 64-bit ('base': conda)"
  },
  "metadata": {
   "interpreter": {
    "hash": "aee8b7b246df8f9039afb4144a1f6fd8d2ca17a180786b69acc140d282b71a49"
   }
  }
 },
 "nbformat": 4,
 "nbformat_minor": 2,
 "cells": [
  {
   "cell_type": "code",
   "execution_count": 2,
   "metadata": {},
   "outputs": [],
   "source": [
    "import matplotlib.pyplot as plt\n",
    "import numpy as np\n",
    "import pandas as pd\n",
    "import os"
   ]
  },
  {
   "cell_type": "code",
   "execution_count": 3,
   "metadata": {},
   "outputs": [],
   "source": [
    "%matplotlib inline\n",
    "plt.rcParams['figure.figsize'] = (20, 10)"
   ]
  },
  {
   "cell_type": "code",
   "execution_count": 4,
   "metadata": {},
   "outputs": [],
   "source": [
    "saved_style_state = plt.rcParams.copy() #give us a style state to go back to"
   ]
  },
  {
   "cell_type": "code",
   "execution_count": 5,
   "metadata": {},
   "outputs": [
    {
     "output_type": "stream",
     "name": "stdout",
     "text": [
      "loading from file\ndone\n"
     ]
    }
   ],
   "source": [
    "if os.path.isfile(\"household_tech_data.csv\"):\n",
    "    filepath = \"household_tech_data.csv\"\n",
    "    print(\"loading from file\")\n",
    "else:\n",
    "    filepath = \"https://www.abs.gov.au/statistics/industry/technology-and-innovation/household-use-information-technology/2016-17\"\n",
    "    print(\"loading from the internet\")\n",
    "\n",
    "df = pd.read_csv(filepath)\n",
    "print(\"done\")"
   ]
  },
  {
   "source": [
    "df.head()"
   ],
   "cell_type": "code",
   "metadata": {},
   "execution_count": 6,
   "outputs": [
    {
     "output_type": "execute_result",
     "data": {
      "text/plain": [
       "                                                                   Proportion of households with internet access, 2004-05 to 2016-17 (a)(b)\n",
       "NaN     Total households (%) Households with children under 15 (%)           Households without children under 15 (%)                      \n",
       "2004-05 56.0                 72.0                                                                                49.0                      \n",
       "2005-06 60.0                 76.0                                                                                53.0                      \n",
       "2006-07 64.0                 81.0                                                                                57.0                      \n",
       "2007-08 67.0                 82.3                                                                                60.8                      "
      ],
      "text/html": "<div>\n<style scoped>\n    .dataframe tbody tr th:only-of-type {\n        vertical-align: middle;\n    }\n\n    .dataframe tbody tr th {\n        vertical-align: top;\n    }\n\n    .dataframe thead th {\n        text-align: right;\n    }\n</style>\n<table border=\"1\" class=\"dataframe\">\n  <thead>\n    <tr style=\"text-align: right;\">\n      <th></th>\n      <th></th>\n      <th></th>\n      <th>Proportion of households with internet access, 2004-05 to 2016-17 (a)(b)</th>\n    </tr>\n  </thead>\n  <tbody>\n    <tr>\n      <th>NaN</th>\n      <th>Total households (%)</th>\n      <th>Households with children under 15 (%)</th>\n      <td>Households without children under 15 (%)</td>\n    </tr>\n    <tr>\n      <th>2004-05</th>\n      <th>56.0</th>\n      <th>72.0</th>\n      <td>49.0</td>\n    </tr>\n    <tr>\n      <th>2005-06</th>\n      <th>60.0</th>\n      <th>76.0</th>\n      <td>53.0</td>\n    </tr>\n    <tr>\n      <th>2006-07</th>\n      <th>64.0</th>\n      <th>81.0</th>\n      <td>57.0</td>\n    </tr>\n    <tr>\n      <th>2007-08</th>\n      <th>67.0</th>\n      <th>82.3</th>\n      <td>60.8</td>\n    </tr>\n  </tbody>\n</table>\n</div>"
     },
     "metadata": {},
     "execution_count": 6
    }
   ]
  },
  {
   "cell_type": "code",
   "execution_count": 7,
   "metadata": {},
   "outputs": [
    {
     "output_type": "execute_result",
     "data": {
      "text/plain": [
       "(13, 1)"
      ]
     },
     "metadata": {},
     "execution_count": 7
    }
   ],
   "source": [
    "df.shape"
   ]
  },
  {
   "cell_type": "code",
   "execution_count": 8,
   "metadata": {},
   "outputs": [
    {
     "output_type": "stream",
     "name": "stdout",
     "text": [
      "<class 'pandas.core.frame.DataFrame'>\nMultiIndex: 13 entries, (nan, 'Total households (%)', 'Households with children under 15 (%)') to ('Source: Australian Bureau of Statistics, Household use of information technology 2016-17 financial year', nan, nan)\nData columns (total 1 columns):\n #   Column                                                                    Non-Null Count  Dtype \n---  ------                                                                    --------------  ----- \n 0   Proportion of households with internet access, 2004-05 to 2016-17 (a)(b)  10 non-null     object\ndtypes: object(1)\nmemory usage: 1.3+ KB\n"
     ]
    }
   ],
   "source": [
    "df.info()"
   ]
  },
  {
   "cell_type": "code",
   "execution_count": 9,
   "metadata": {},
   "outputs": [
    {
     "output_type": "execute_result",
     "data": {
      "text/plain": [
       "Index(['Proportion of households with internet access, 2004-05 to 2016-17 (a)(b)'], dtype='object')"
      ]
     },
     "metadata": {},
     "execution_count": 9
    }
   ],
   "source": [
    "df.columns"
   ]
  },
  {
   "cell_type": "code",
   "execution_count": 60,
   "metadata": {},
   "outputs": [],
   "source": [
    " "
   ]
  }
 ]
}